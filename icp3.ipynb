{
 "cells": [
  {
   "cell_type": "code",
   "execution_count": 12,
   "id": "5741ad44",
   "metadata": {},
   "outputs": [
    {
     "ename": "IndentationError",
     "evalue": "unexpected indent (1767633900.py, line 11)",
     "output_type": "error",
     "traceback": [
      "\u001b[1;36m  File \u001b[1;32m\"C:\\Users\\91886\\AppData\\Local\\Temp\\ipykernel_12456\\1767633900.py\"\u001b[1;36m, line \u001b[1;32m11\u001b[0m\n\u001b[1;33m    pass\u001b[0m\n\u001b[1;37m    ^\u001b[0m\n\u001b[1;31mIndentationError\u001b[0m\u001b[1;31m:\u001b[0m unexpected indent\n"
     ]
    }
   ],
   "source": [
    "class employee:\n",
    "    count = 0\n",
    "    def __init__ (name, family, salary, department):\n",
    "        self.name = name\n",
    "        self.family = family\n",
    "        self.salary = salary\n",
    "        self.department = department\n",
    "        employee.count += 1\n",
    "        def average_salary (self): \n",
    "            return self.salary / employee.count\n",
    "                pass\n",
    "employee1 = employee(\"pravalllika\", \"Guggilam\", 6500, \"CSE\")\n",
    "employee2 = employee(\"mahathi\", \"Panyala\", 5000, \"ECE\")\n",
    "employee3 = employee(\"dinesh\", \"Nandiagama\", 7500, \"IT\")"
   ]
  },
  {
   "cell_type": "code",
   "execution_count": 13,
   "id": "64271c3d",
   "metadata": {},
   "outputs": [
    {
     "name": "stdout",
     "output_type": "stream",
     "text": [
      "enter number of employees2\n",
      "enter namepravallika\n",
      "enter how many family members3\n",
      "enter salary7000\n",
      "enter departmentece\n",
      "enter namemahathi\n",
      "enter how many family members4\n",
      "enter salary8000\n",
      "enter departmentcse\n",
      "enter Full time employees1\n",
      "enter namedinesh reddy\n",
      "enter how many family members3\n",
      "enter salary6700\n",
      "enter departmentmech\n",
      "The total Number of Employees(employee+Fulltime employee): 3\n",
      "the average salary of the all the Employees(employee+Fulltime employee): 10850.0\n"
     ]
    }
   ],
   "source": [
    "class Employee: \n",
    "  def __init__(self):  #constructor for name,family,salary and Department.\n",
    "        self.name =\"Akanksha \" \n",
    "        self.family =6 \n",
    "        self.salary=98765 \n",
    "        self.department=\"mech\" \n",
    "  def __init__(self,name,family,salary,department): \n",
    "        self.name =name \n",
    "        self.family =family \n",
    "        self.salary=salary \n",
    "        self.department=department \n",
    "        \n",
    "  def count_emp(self,emp1,fullemp1): \n",
    "        print(\"The total Number of Employees(employee+Fulltime employee):\",len(emp1+fullemp1)) #counting number of employees.\n",
    "        \n",
    "  def avg_salary(self,emp1,fullemp1):  #function for calculating the average salaryof all employees.\n",
    "       su=0 \n",
    "       for i in emp1: \n",
    "           su=su+i.salary \n",
    "       for i in fullemp1: \n",
    "            su=su+i.salary \n",
    "       print(\"the average salary of the all the Employees(employee+Fulltime employee):\",su/2) \n",
    "        \n",
    "class Fulltime_Employee(Employee): \n",
    "    pass \n",
    "n=int(input(\"enter number of employees\")) \n",
    "pe=[] \n",
    "for i in range(0,n):  #using for() loop,take the input dynamically.\n",
    "    na=input(\"enter name\") \n",
    "    f=int(input(\"enter how many family members\")) \n",
    "    s=int(input(\"enter salary\")) \n",
    "    d=input(\"enter department\") \n",
    "    obj=Employee(na,f,s,d) \n",
    "    pe.append(obj) \n",
    "full=int(input(\"enter Full time employees\")) \n",
    "fe=[] \n",
    "for i in range(0,full): \n",
    "    na=input(\"enter name\") \n",
    "    f=int(input(\"enter how many family members\")) \n",
    "    s=int(input(\"enter salary\")) \n",
    "    d=input(\"enter department\") \n",
    "    obj=Fulltime_Employee(na,f,s,d) \n",
    "    fe.append(obj) \n",
    "    \n",
    "result=Fulltime_Employee(na,f,s,d)  \n",
    "result.count_emp(pe,fe) #function call\n",
    "result.avg_salary(pe,fe) #function call"
   ]
  },
  {
   "cell_type": "code",
   "execution_count": 14,
   "id": "75a4d03a",
   "metadata": {},
   "outputs": [
    {
     "name": "stdout",
     "output_type": "stream",
     "text": [
      "Vector : [ 1.  2.  3.  4.  5.  6.  7.  8.  9. 10. 11. 12. 13. 14. 15. 16. 17. 18.\n",
      " 19. 20.]\n",
      "Then reshape the array to 4 by 5: [[ 1.  2.  3.  4.  5.]\n",
      " [ 6.  7.  8.  9. 10.]\n",
      " [11. 12. 13. 14. 15.]\n",
      " [16. 17. 18. 19. 20.]]\n",
      "replace the max in each row by 0 (axis=1): [[ 1.  2.  3.  4.  0.]\n",
      " [ 6.  7.  8.  9.  0.]\n",
      " [11. 12. 13. 14.  0.]\n",
      " [16. 17. 18. 19.  0.]]\n"
     ]
    }
   ],
   "source": [
    "import numpy as np #import numpy\n",
    "x = np.arange(1,21,dtype=float) #vector of size 1-20\n",
    "print(\"Vector :\",x) \n",
    "x=x.reshape(4,5) #use reshape() to reshape the array into 4*5 \n",
    "print(\"Then reshape the array to 4 by 5:\",x) \n",
    "def replace(x): \n",
    "    a=x \n",
    "    a[:,np.argmax(x, axis=1)] = 0 \n",
    "    return a \n",
    "result= replace(x) \n",
    "print(\"replace the max in each row by 0 (axis=1):\",result)"
   ]
  }
 ],
 "metadata": {
  "kernelspec": {
   "display_name": "Python 3 (ipykernel)",
   "language": "python",
   "name": "python3"
  },
  "language_info": {
   "codemirror_mode": {
    "name": "ipython",
    "version": 3
   },
   "file_extension": ".py",
   "mimetype": "text/x-python",
   "name": "python",
   "nbconvert_exporter": "python",
   "pygments_lexer": "ipython3",
   "version": "3.9.13"
  }
 },
 "nbformat": 4,
 "nbformat_minor": 5
}
